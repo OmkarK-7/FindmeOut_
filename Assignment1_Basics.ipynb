{
  "nbformat": 4,
  "nbformat_minor": 0,
  "metadata": {
    "colab": {
      "provenance": [],
      "authorship_tag": "ABX9TyMesoUKDt2cPqSxubZTWHkS",
      "include_colab_link": true
    },
    "kernelspec": {
      "name": "python3",
      "display_name": "Python 3"
    },
    "language_info": {
      "name": "python"
    }
  },
  "cells": [
    {
      "cell_type": "markdown",
      "metadata": {
        "id": "view-in-github",
        "colab_type": "text"
      },
      "source": [
        "<a href=\"https://colab.research.google.com/github/OmkarK-7/FindmeOut_/blob/main/Assignment1_Basics.ipynb\" target=\"_parent\"><img src=\"https://colab.research.google.com/assets/colab-badge.svg\" alt=\"Open In Colab\"/></a>"
      ]
    },
    {
      "cell_type": "code",
      "execution_count": 1,
      "metadata": {
        "id": "j_JBbFo2o8rD"
      },
      "outputs": [],
      "source": [
        "#@title Leaders in an array\n",
        "variable_name = \"\"\n",
        "#Leaders in an array \n",
        "#choosing random test numbers\n",
        "\n",
        "numbers = [15,18,4,44,37,2]"
      ]
    },
    {
      "cell_type": "code",
      "source": [
        "n = len(numbers)\n",
        "\n",
        "leaders = []\n",
        "\n",
        "for index in range(0, n):\n",
        "  for index2 in range(index+1, n):\n",
        "    if(numbers[index] >= numbers[index2] ):\n",
        "      isLeader = 1\n",
        "    else:\n",
        "      isLeader = 0\n",
        "      break\n",
        "  if(isLeader):\n",
        "    leaders.append(numbers[index])\n",
        "\n",
        "print(leaders)"
      ],
      "metadata": {
        "colab": {
          "base_uri": "https://localhost:8080/"
        },
        "id": "xU2o1Kg3pcil",
        "outputId": "b57f9e73-2ced-4c77-baa4-77accfc9d723"
      },
      "execution_count": 2,
      "outputs": [
        {
          "output_type": "stream",
          "name": "stdout",
          "text": [
            "[44, 37, 2]\n"
          ]
        }
      ]
    },
    {
      "cell_type": "code",
      "source": [
        "#@title Trapping Rain Water\n",
        "#Trapping Rain Water\n",
        "\n",
        "array = [3,0,0,2,0,4]\n",
        "maxht_left = 0\n",
        "maxht_right = 0\n",
        "water = 0\n",
        "#assuming the first and last entries are non zero\n",
        "for i in range(1, len(array) -1):\n",
        "  maxht_left = 0\n",
        "  maxht_right = 0\n",
        "  for j in range(0,i):\n",
        "    if(array[j]> maxht_left):\n",
        "      maxht_left = array[j]\n",
        "  for j in range(i+1,len(array)):\n",
        "    if(array[j]> maxht_right):\n",
        "      maxht_right = array[j]\n",
        "  if(array[i] < maxht_right) and (array[i]< maxht_left):\n",
        "    water += min(maxht_left,maxht_right) - array[i]\n",
        "\n",
        "  else:\n",
        "    water += 0\n",
        "\n",
        "print(water) \n"
      ],
      "metadata": {
        "colab": {
          "base_uri": "https://localhost:8080/"
        },
        "cellView": "form",
        "id": "0NjtdlqGp3S6",
        "outputId": "69cab85b-2bc9-4802-dba9-7ffbadcc3b82"
      },
      "execution_count": 3,
      "outputs": [
        {
          "output_type": "stream",
          "name": "stdout",
          "text": [
            "10\n"
          ]
        }
      ]
    },
    {
      "cell_type": "code",
      "source": [
        "#Minimum Platforms\n",
        "import numpy as np\n",
        "arrival = [900, 940, 950, 1100, 1500, 1800]\n",
        "departure = [910, 1200, 1120, 1130, 1900, 2000]"
      ],
      "metadata": {
        "id": "lFiuLNy0qigG"
      },
      "execution_count": 4,
      "outputs": []
    },
    {
      "cell_type": "code",
      "source": [
        "no_of_trains = len(arrival)\n",
        "n_platforms = 1\n",
        "departureTimes = [departure[0]]\n",
        "nextDeparture = departure[0]\n",
        "nextEmptyPlatform = 0\n",
        "\n",
        "for index in range(1, n):\n",
        "  if(arrival[index] <= nextDeparture):\n",
        "    n_platforms += 1\n",
        "    departureTimes.append(departure[index])\n",
        "    nextDeparture = min(departureTimes)\n",
        "    nextEmptyPlatform = np.argmin(nextDeparture)\n",
        "  elif(len(departureTimes) == 0):\n",
        "    departureTimes.append(departure[index])\n",
        "    nextDeparture = departure[index]\n",
        "    nextEmptyPlatform = 0\n",
        "  elif(len(departureTimes) == 1):\n",
        "    departureTimes.pop(nextEmptyPlatform)\n",
        "    departureTimes.append(departure[index])\n",
        "    nextDeparture = departure[index]\n",
        "    nextEmptyPlatform = 0\n",
        "  else:\n",
        "    departureTimes.pop(nextEmptyPlatform)\n",
        "    departureTimes.append(departure[index])\n",
        "    nextDeparture = min(departureTimes)\n",
        "    nextEmptyPlatform = np.argmin(nextDeparture)\n",
        "\n",
        "print(n_platforms)"
      ],
      "metadata": {
        "colab": {
          "base_uri": "https://localhost:8080/"
        },
        "id": "F8UGhpJLqu_P",
        "outputId": "92b75a79-c742-4458-9dd1-94e5dcd29f28"
      },
      "execution_count": 5,
      "outputs": [
        {
          "output_type": "stream",
          "name": "stdout",
          "text": [
            "3\n"
          ]
        }
      ]
    },
    {
      "cell_type": "code",
      "source": [
        "#Palidrone String\n",
        "\n",
        "string = \"abba\"            # Given String"
      ],
      "metadata": {
        "id": "EiabNDvJq0kQ"
      },
      "execution_count": 6,
      "outputs": []
    },
    {
      "cell_type": "code",
      "source": [
        "n = len(string)\n",
        "\n",
        "isPalindrome = 1\n",
        "n_checks = int(n/2) - 1\n",
        "for index in range(0, n_checks):\n",
        "  if(string[index] == string[(n - 1) - index] and isPalindrome == 1):\n",
        "    continue;\n",
        "  else:\n",
        "    isPalindrome = 0\n",
        "    break\n",
        "print(isPalindrome)"
      ],
      "metadata": {
        "colab": {
          "base_uri": "https://localhost:8080/"
        },
        "id": "JPC2ALbaq66f",
        "outputId": "130fd25c-3291-4ba8-aa17-3206b6042f93"
      },
      "execution_count": 7,
      "outputs": [
        {
          "output_type": "stream",
          "name": "stdout",
          "text": [
            "1\n"
          ]
        }
      ]
    },
    {
      "cell_type": "markdown",
      "source": [
        "Alternate solution"
      ],
      "metadata": {
        "id": "sGpYZHBCq-q2"
      }
    },
    {
      "cell_type": "code",
      "source": [
        "string = \"abba\";\n",
        "string1 = string.lower() #if we consider palindrome nature to be case insensitive\n",
        "string2 = string1[::-1]\n",
        "if(string1 == string2):\n",
        "  print(\"palindrome\")\n",
        "else:\n",
        "  print(\"not a palindrome\")"
      ],
      "metadata": {
        "colab": {
          "base_uri": "https://localhost:8080/"
        },
        "id": "P9M1dIZMrBQk",
        "outputId": "7e9968d9-6571-433f-b400-de378580ad92"
      },
      "execution_count": 8,
      "outputs": [
        {
          "output_type": "stream",
          "name": "stdout",
          "text": [
            "palindrome\n"
          ]
        }
      ]
    }
  ]
}